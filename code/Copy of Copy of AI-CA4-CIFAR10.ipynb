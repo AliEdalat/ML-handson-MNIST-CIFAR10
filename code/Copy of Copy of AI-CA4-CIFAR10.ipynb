{
 "cells": [
  {
   "cell_type": "markdown",
   "metadata": {
    "colab_type": "text",
    "id": "h-yUy9acxtan"
   },
   "source": [
    "## AI-CA4"
   ]
  },
  {
   "cell_type": "markdown",
   "metadata": {
    "colab_type": "text",
    "id": "tgGEuT9Ax165"
   },
   "source": [
    "### CIFAR10"
   ]
  },
  {
   "cell_type": "markdown",
   "metadata": {
    "colab_type": "text",
    "id": "yqjfTE4rx56W"
   },
   "source": [
    "### 1)"
   ]
  },
  {
   "cell_type": "markdown",
   "metadata": {
    "colab_type": "text",
    "id": "u1gir_scyAxD"
   },
   "source": [
    "#### grayscale\n",
    "####  در مقابل رنگی بودن تصویر است. در این تکنیک سه کانال رنگی عکس را به یک کانال تبدیل می کنیم و عکس را خاکستری می کنیم.در اینجا پیچیدگی دیتا ست کاهش می یابد.با این کار  در عکس ها تاثیر رنگ در تصمیم گیری از بین می رود و لیبل عکس ها از روی ساختار اشیا تهیه می شود که در اینجا حجم دیتای تمرین کاهش یافته و این کاهش در تصمیم گیری می تواند کمک کننده باشد.\n",
    "#### PCA\n",
    "#### در این تکنیک از تعداد بعد های دیتای خود می کاهیم به طوری که بعد های باقی مانده توانایی تمایز بخشی دیتای اولیه را داشته باشد. در اینجا بین دقت و کاهش حجم داده یک رقابت است که باید یک نقطه بهینه بدست بیاید.\n",
    "#### random projection\n",
    "#### KNN یک تکنیک برای کاهش ابعاد داده است برای زمانی که به محاسبه سریع فاصله جفت جفت داده ها از هم نیاز است مثل \n",
    "#### در اینجا زمان محاسبات کمتر می شودو داده ها با بعد کمتر تمایز بیشتری نسبت به هم دارند و تصمیم گیری بر اساس اختلاف های داده هاست و دقیق تر می باشد\n",
    "#### augmentation\n",
    "#### به معنی افزایش اندازه دیتای تمرین است. هدف افزایش تعداد داده ها و غنی کردن دیتای تمرین استو در این جا عکس های چرخش عکس های اصلی و انعکاس عکس ها و ... را اضافه می کنیم که باعث غنی شدن داده تمرین و افزایش دقت می شود چرا که عکس های اضافه شده می توانند در عکس های تمرین نباشند ولی در تست دیده شوند\n",
    "\n",
    "---\n",
    "\n"
   ]
  },
  {
   "cell_type": "markdown",
   "metadata": {
    "colab_type": "text",
    "id": "1tA16FX5yL1B"
   },
   "source": [
    "### 2)"
   ]
  },
  {
   "cell_type": "code",
   "execution_count": 2,
   "metadata": {
    "colab": {
     "base_uri": "https://localhost:8080/",
     "height": 68
    },
    "colab_type": "code",
    "executionInfo": {
     "elapsed": 335453,
     "status": "ok",
     "timestamp": 1558568349896,
     "user": {
      "displayName": "Ali Edalat",
      "photoUrl": "",
      "userId": "06981362552838301490"
     },
     "user_tz": 420
    },
    "id": "NDX1tuU6yWy4",
    "outputId": "990b76c1-64cd-4823-e8d7-f81d403a51e2"
   },
   "outputs": [
    {
     "name": "stderr",
     "output_type": "stream",
     "text": [
      "b'Skipping line 12119: expected 3072 fields, saw 4523\\n'\n"
     ]
    },
    {
     "name": "stdout",
     "output_type": "stream",
     "text": [
      "train RF n_estimators=1000, pca=130, accuracy=99.99%\n",
      "test RF n_estimators=1000, pca=130, accuracy=46.00%\n"
     ]
    }
   ],
   "source": [
    "from sklearn.decomposition import PCA\n",
    "from sklearn.ensemble import RandomForestClassifier\n",
    "import matplotlib.pyplot as plt\n",
    "import pandas as pd\n",
    "from numpy import inf\n",
    "\n",
    "train_imgs=pd.read_csv('CIFAR10_train_data.csv',  header=None, error_bad_lines=False)\n",
    "train_labels=pd.read_csv('CIFAR10_train_label.csv',  header=None)\n",
    "test_imgs=pd.read_csv('CIFAR10_val_data.csv',  header=None)\n",
    "test_labels=pd.read_csv('CIFAR10_val_label.csv',  header=None)\n",
    "\n",
    "trainData = []\n",
    "testData = []\n",
    "testLabels = test_labels.iloc[:, 0].values\n",
    "trainLabels = train_labels.iloc[:, 0].values\n",
    "for x in range(len(train_imgs.index)):\n",
    "\ttrainData.append(train_imgs.iloc[x, :].values)\n",
    "for x in range(len(test_imgs.index)):\n",
    "\ttestData.append(test_imgs.iloc[x, :].values)\n",
    "\n",
    "# print(len(trainData))\n",
    "# print(len(trainData[0]))\n",
    "# print(len(trainLabels))\n",
    "# j = 0\n",
    "# for x in trainData:\n",
    "#   trainData[j][trainData[j] < 0] = 0\n",
    "#   trainData[j][trainData[j] > 255] = 255\n",
    "#   j += 1\n",
    "trainData = trainData[:12119]\n",
    "trainLabels = trainLabels[:12119]\n",
    "# pca = PCA()\n",
    "# pca.fit_transform(trainData)\n",
    "\n",
    "# x_train_pca = pca.fit_transform(trainData)\n",
    "# print(x_train_pca)\n",
    "# x_test_pca = pca.transform(testData)\n",
    "\n",
    "clf = RandomForestClassifier(n_estimators=500)\n",
    "clf.fit(trainData, trainLabels)\n",
    "score3 = clf.score(trainData, trainLabels)\n",
    "print(\"train RF n_estimators=1000, pca=130, accuracy=%.2f%%\" % (score3 * 100))\n",
    "score4 = clf.score(testData, testLabels)\n",
    "print(\"test RF n_estimators=1000, pca=130, accuracy=%.2f%%\" % (score4 * 100))\n"
   ]
  },
  {
   "cell_type": "markdown",
   "metadata": {
    "colab_type": "text",
    "id": "BGFqmy611Y7L"
   },
   "source": [
    "### 3)"
   ]
  },
  {
   "cell_type": "code",
   "execution_count": 0,
   "metadata": {
    "colab": {},
    "colab_type": "code",
    "id": "5dyDdlin1gUO"
   },
   "outputs": [],
   "source": [
    "from pandas import DataFrame\n",
    "i = 1\n",
    "ids = []\n",
    "res = []\n",
    "test= []\n",
    "train_imgs=pd.read_csv('CIFAR10_test_data.csv',  header=None)\n",
    "for x in range(len(train_imgs.index)):\n",
    "# \tprint(train_imgs.iloc[x, :].shape)\n",
    "\ttest.append(train_imgs.iloc[x, :].values)\n",
    "for x in test:\n",
    "# \tprint(x)\n",
    "\tres.append(clf.predict(x.reshape(1,-1))[0])\n",
    "\tids.append(i)\n",
    "\ti += 1\n",
    "# print(res)\n",
    "result = {'id':ids, 'predict':res}\n",
    "df = DataFrame(result, columns= ['id', 'predict'])\n",
    "export_csv = df.to_csv (r'810195427.csv', index = None, header=True)"
   ]
  }
 ],
 "metadata": {
  "colab": {
   "collapsed_sections": [],
   "name": "Copy of Copy of AI-CA4-CIFAR10.ipynb",
   "provenance": [
    {
     "file_id": "1v0k94aXp8qtwf3FgikCtino0HIRIJM7b",
     "timestamp": 1558569520216
    },
    {
     "file_id": "13xYSAW-mjGgGrDojNRuTE3HXKY-HfZq6",
     "timestamp": 1558567848096
    }
   ],
   "toc_visible": true,
   "version": "0.3.2"
  },
  "kernelspec": {
   "display_name": "Python 3",
   "language": "python",
   "name": "python3"
  },
  "language_info": {
   "codemirror_mode": {
    "name": "ipython",
    "version": 3
   },
   "file_extension": ".py",
   "mimetype": "text/x-python",
   "name": "python",
   "nbconvert_exporter": "python",
   "pygments_lexer": "ipython3",
   "version": "3.5.2"
  }
 },
 "nbformat": 4,
 "nbformat_minor": 1
}
